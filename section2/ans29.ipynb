{
 "cells": [
  {
   "cell_type": "code",
   "execution_count": 1,
   "metadata": {},
   "outputs": [
    {
     "name": "stderr",
     "output_type": "stream",
     "text": [
      "C:\\Users\\Public\\Anaconda3\\lib\\site-packages\\japanize_matplotlib\\japanize_matplotlib.py:15: MatplotlibDeprecationWarning: \n",
      "The createFontList function was deprecated in Matplotlib 3.2 and will be removed two minor releases later. Use FontManager.addfont instead.\n",
      "  font_list = font_manager.createFontList(font_files)\n"
     ]
    }
   ],
   "source": [
    "import numpy as np\n",
    "import matplotlib.pyplot as plt\n",
    "%matplotlib inline\n",
    "import japanize_matplotlib\n",
    "import scipy\n",
    "from scipy import stats\n",
    "from numpy.random import randn"
   ]
  },
  {
   "cell_type": "code",
   "execution_count": 2,
   "metadata": {},
   "outputs": [],
   "source": [
    "from sklearn.datasets import load_iris"
   ]
  },
  {
   "cell_type": "code",
   "execution_count": 3,
   "metadata": {},
   "outputs": [],
   "source": [
    "iris = load_iris()\n",
    "iris.target_names\n",
    "x = iris.data\n",
    "y = iris.target\n",
    "n = len(x)\n",
    "train = np.random.choice(n, int(n/2), replace=False)\n",
    "test = list(set(range(n)) - set(train))\n",
    "\n",
    "# パラメータを推定する\n",
    "X = x[train, :]\n",
    "Y = y[train]\n",
    "mu = []\n",
    "covv = []\n",
    "for j in range(3):\n",
    "    xx = X[Y == j, :]\n",
    "    mu.append(np.mean(xx, 0))\n",
    "    covv.append(np.cov(xx, rowvar=0))"
   ]
  },
  {
   "cell_type": "code",
   "execution_count": 4,
   "metadata": {},
   "outputs": [],
   "source": [
    "# 推定されたパラメータを代入する分布の定義式\n",
    "def f(w, mu, inv, de):\n",
    "    return -0.5 * (w - mu).T @ inv @(w - mu) -0.5 * np.log(de)\n",
    "\n",
    "def g(v, j):\n",
    "    return f(v, mu[j], np.linalg.inv(covv[j]), np.linalg.det(covv[j]))"
   ]
  },
  {
   "cell_type": "code",
   "execution_count": 5,
   "metadata": {},
   "outputs": [
    {
     "data": {
      "text/plain": [
       "array([[23.,  0.,  0.],\n",
       "       [ 0., 26.,  2.],\n",
       "       [ 0.,  1., 23.]])"
      ]
     },
     "execution_count": 5,
     "metadata": {},
     "output_type": "execute_result"
    }
   ],
   "source": [
    "z = []\n",
    "for i in test:\n",
    "    a = g(x[i, ], 0) + np.log(1/2)\n",
    "    b = g(x[i, ], 1) + np.log(1/4)\n",
    "    c = g(x[i, ], 2) + np.log(1/4)\n",
    "    if a < b:\n",
    "        if b < c:\n",
    "            z.append(2)\n",
    "        else:\n",
    "            z.append(1)\n",
    "    else:\n",
    "        z.append(0)\n",
    "\n",
    "u = y[test]\n",
    "count = np.zeros([3, 3])\n",
    "for i in range(int(n/2)):\n",
    "    count[u[i], z[i]] += 1\n",
    "count"
   ]
  },
  {
   "cell_type": "code",
   "execution_count": null,
   "metadata": {},
   "outputs": [],
   "source": []
  }
 ],
 "metadata": {
  "interpreter": {
   "hash": "6f3459a7eaad7388d7351a557bbe5239a0aa1912c8a80cc899cc91528b7b4fb5"
  },
  "kernelspec": {
   "display_name": "Python 3.7.1 64-bit ('base': conda)",
   "name": "python3"
  },
  "language_info": {
   "codemirror_mode": {
    "name": "ipython",
    "version": 3
   },
   "file_extension": ".py",
   "mimetype": "text/x-python",
   "name": "python",
   "nbconvert_exporter": "python",
   "pygments_lexer": "ipython3",
   "version": "3.7.1"
  },
  "orig_nbformat": 2
 },
 "nbformat": 4,
 "nbformat_minor": 2
}
