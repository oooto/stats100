{
 "cells": [
  {
   "cell_type": "markdown",
   "metadata": {},
   "source": [
    "$x_i = (x_{i1}, \\ldots, x_{ip})$とおくと、\n",
    "$$\n",
    "    \\begin{align*}\n",
    "        \\frac{\\partial \\ell}{\\partial \\beta_j}(\\beta_0, \\beta) &= \\sum_{i=1}^{N} \\frac{1}{1 + v_i}\\frac{\\partial v_i}{\\partial \\beta_j} \\\\\n",
    "        &= - \\sum_{i=1}^{N} x_{ij} \\frac{y_i v_i}{1 + v_i} \\\\\n",
    "        &= - (x_{1j}, \\ldots, x_{Nj})\n",
    "        \\left(\n",
    "            \\begin{array}{c}\n",
    "                \\frac{y_1v_1}{1+v_1} \\\\\n",
    "                \\vdots \\\\\n",
    "                \\frac{y_Nv_N}{1+v_N}\n",
    "            \\end{array}\n",
    "        \\right).\n",
    "    \\end{align*}\n",
    "$$\n",
    "ここで、\n",
    "$$\n",
    "    X =\n",
    "    \\left(\n",
    "        \\begin{array}{c}\n",
    "            1 & x_1 \\\\\n",
    "            \\vdots & \\vdots \\\\\n",
    "            1 & x_p\n",
    "        \\end{array}\n",
    "    \\right),\n",
    "    \\quad\n",
    "    u =\n",
    "    \\left(\n",
    "        \\begin{array}{c}\n",
    "            \\frac{y_1v_1}{1+v_1} \\\\\n",
    "            \\vdots \\\\\n",
    "            \\frac{y_Nv_N}{1+v_N}\n",
    "        \\end{array}\n",
    "    \\right)\n",
    "$$\n",
    "とおくと、$\\nabla \\ell (\\beta_0, \\beta) = - X^Tu$となる。"
   ]
  },
  {
   "cell_type": "markdown",
   "metadata": {},
   "source": [
    "$$\n",
    "    \\begin{align*}\n",
    "        \\frac{\\partial \\ell}{\\partial \\beta_j \\partial \\beta_k}(\\beta_0, \\beta)\n",
    "        &= \\sum_{i=1}^{N} (-y_i x_{ij})\\frac{\\partial}{\\partial \\beta_k} \\frac{v_i}{1+v_i} \\\\\n",
    "        &= \\sum_{i=1}^{N} (x_{ij} x_{ik})\\frac{v_i}{(1+v_i)^2}.\n",
    "    \\end{align*}\n",
    "$$\n",
    "ここで、\n",
    "$$\n",
    "    W =\n",
    "    \\left(\n",
    "        \\begin{array}{c}\n",
    "            \\frac{v_1}{(1+v_1)^2} & \\cdots & 0 \\\\\n",
    "            \\vdots & \\ddots & \\vdots \\\\\n",
    "            0 & \\cdots & \\frac{v_N}{(1+v_N)^2}\n",
    "        \\end{array}\n",
    "    \\right)\n",
    "$$\n",
    "とおくと、$\\nabla^2 \\ell (\\beta_0, \\beta) = X^TWX$となる。"
   ]
  },
  {
   "cell_type": "markdown",
   "metadata": {},
   "source": [
    "$\\ell(\\beta_0, \\beta)$が凸関数であることを示すには、$\\nabla^2 \\ell (\\beta_0, \\beta)$が正定値行列であることを示せば良い。\n",
    "$$\n",
    "    U =\n",
    "    \\left(\n",
    "        \\begin{array}{c}\n",
    "            \\frac{\\sqrt{v_1}}{1+v_1} & \\cdots & 0 \\\\\n",
    "            \\vdots & \\ddots & \\vdots \\\\\n",
    "            0 & \\cdots & \\frac{\\sqrt{v_N}}{1+v_N}\n",
    "        \\end{array}\n",
    "    \\right)\n",
    "$$\n",
    "とおくと、任意の$a \\in \\mathbb{R}^{p+1}$に対して、\n",
    "$$\n",
    "    \\begin{align*}\n",
    "        a^T\\nabla^2 \\ell (\\beta_0, \\beta)a\n",
    "        &= a^TX^TWXa \\\\\n",
    "        &= (UXa)^TUXa \\geq 0\n",
    "    \\end{align*}\n",
    "$$\n",
    "となるのでOK。"
   ]
  },
  {
   "cell_type": "markdown",
   "metadata": {},
   "source": []
  }
 ],
 "metadata": {
  "kernelspec": {
   "display_name": "Python 3",
   "name": "python3"
  },
  "language_info": {
   "codemirror_mode": {
    "name": "ipython",
    "version": 3
   },
   "file_extension": ".py",
   "mimetype": "text/x-python",
   "name": "python",
   "nbconvert_exporter": "python",
   "pygments_lexer": "ipython3",
   "version": "3.7.1-final"
  },
  "orig_nbformat": 2
 },
 "nbformat": 4,
 "nbformat_minor": 2
}
