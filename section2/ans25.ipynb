{
 "cells": [
  {
   "cell_type": "markdown",
   "metadata": {},
   "source": [
    "$$\n",
    "    f(\\beta_0, \\beta) = \\prod_{i=1}^{N} \\frac{1}{1 + \\exp \\{ -y_i(\\beta_0 + x_i\\beta \\}}\n",
    "$$\n",
    "とおく。\n",
    "問題の条件から、$k > 1$に対して、$f(\\beta_0, \\beta) < f(k\\beta_0, k\\beta)$となるため、$\\max_{\\beta_0, \\beta} f(\\beta_0, \\beta)$は存在しない。\n",
    "そのため、最尤推定のパラメータ$(\\beta_0, \\beta)$を見出すことはできない。"
   ]
  },
  {
   "cell_type": "markdown",
   "metadata": {},
   "source": []
  }
 ],
 "metadata": {
  "kernelspec": {
   "display_name": "Python 3",
   "name": "python3"
  },
  "language_info": {
   "codemirror_mode": {
    "name": "ipython",
    "version": 3
   },
   "file_extension": ".py",
   "mimetype": "text/x-python",
   "name": "python",
   "nbconvert_exporter": "python",
   "pygments_lexer": "ipython3",
   "version": "3.7.1-final"
  },
  "orig_nbformat": 2
 },
 "nbformat": 4,
 "nbformat_minor": 2
}
