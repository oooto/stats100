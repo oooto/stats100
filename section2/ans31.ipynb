{
 "cells": [
  {
   "cell_type": "code",
   "execution_count": 2,
   "metadata": {},
   "outputs": [
    {
     "name": "stderr",
     "output_type": "stream",
     "text": [
      "C:\\Users\\Public\\Anaconda3\\lib\\site-packages\\japanize_matplotlib\\japanize_matplotlib.py:15: MatplotlibDeprecationWarning: \n",
      "The createFontList function was deprecated in Matplotlib 3.2 and will be removed two minor releases later. Use FontManager.addfont instead.\n",
      "  font_list = font_manager.createFontList(font_files)\n"
     ]
    }
   ],
   "source": [
    "import numpy as np\n",
    "import matplotlib.pyplot as plt\n",
    "%matplotlib inline\n",
    "import japanize_matplotlib\n",
    "import scipy\n",
    "from scipy import stats\n",
    "from numpy.random import randn"
   ]
  },
  {
   "cell_type": "code",
   "execution_count": 11,
   "metadata": {},
   "outputs": [],
   "source": [
    "N_0 = 10000\n",
    "N_1 = 1000\n",
    "# 病気の人1, 正常な人0\n",
    "mu_1 = 1\n",
    "mu_0 = -1\n",
    "var_1 = 1\n",
    "var_0 = 1\n",
    "x = np.random.normal(mu_0, var_0, N_0)\n",
    "y = np.random.normal(mu_1, var_1, N_1)\n",
    "theta_seq = np.exp(np.arange(-10, 100, 0.1))\n",
    "U = []\n",
    "V = []\n",
    "for i in range(len(theta_seq)):\n",
    "    # 病気でない人を病気とみなす\n",
    "    u = np.sum(stats.norm.pdf(x, mu_1, var_1) / stats.norm.pdf(x, mu_0, var_0) > theta_seq[i]) / N_0\n",
    "    # 病気の人を病気とみなす\n",
    "    v = np.sum(stats.norm.pdf(y, mu_1, var_1) / stats.norm.pdf(y, mu_0, var_0) > theta_seq[i]) / N_1\n",
    "    U.append(u)\n",
    "    V.append(v)"
   ]
  },
  {
   "cell_type": "code",
   "execution_count": 12,
   "metadata": {},
   "outputs": [],
   "source": [
    "# 面積を求める\n",
    "AUC = 0\n",
    "for i in range(len(theta_seq) - 1):\n",
    "    AUC = AUC + np.abs(U[i+1] - U[i]) * V[i]"
   ]
  },
  {
   "cell_type": "code",
   "execution_count": 13,
   "metadata": {},
   "outputs": [
    {
     "data": {
      "text/plain": [
       "Text(0.3, 0.5, 'AUC = 0.9215241000000003')"
      ]
     },
     "execution_count": 13,
     "metadata": {},
     "output_type": "execute_result"
    },
    {
     "data": {
      "image/png": "[encoded data removed]",
      "text/plain": [
       "<Figure size 432x288 with 1 Axes>"
      ]
     },
     "metadata": {
      "needs_background": "light"
     },
     "output_type": "display_data"
    }
   ],
   "source": [
    "plt.plot(U, V)\n",
    "plt.xlabel(\"False Positive\")\n",
    "plt.ylabel(\"True Positive\")\n",
    "plt.title(\"ROC曲線\")\n",
    "plt.text(0.3, 0.5, \"AUC = {}\".format(AUC), fontsize=15)"
   ]
  },
  {
   "cell_type": "code",
   "execution_count": null,
   "metadata": {},
   "outputs": [],
   "source": []
  }
 ],
 "metadata": {
  "interpreter": {
   "hash": "6f3459a7eaad7388d7351a557bbe5239a0aa1912c8a80cc899cc91528b7b4fb5"
  },
  "kernelspec": {
   "display_name": "Python 3.7.1 64-bit ('base': conda)",
   "name": "python3"
  },
  "language_info": {
   "codemirror_mode": {
    "name": "ipython",
    "version": 3
   },
   "file_extension": ".py",
   "mimetype": "text/x-python",
   "name": "python",
   "nbconvert_exporter": "python",
   "pygments_lexer": "ipython3",
   "version": "3.7.1"
  },
  "orig_nbformat": 2
 },
 "nbformat": 4,
 "nbformat_minor": 2
}
