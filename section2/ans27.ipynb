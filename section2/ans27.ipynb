{
 "cells": [
  {
   "cell_type": "markdown",
   "metadata": {},
   "source": [
    "(a)\n",
    "$$\n",
    "    \\begin{align*}\n",
    "        \\frac{\\pi_k f_k(x)}{\\sum_{j=1}^{K}\\pi_jf_j(x)}\n",
    "        &= \\frac{\\pi_l f_l(x)}{\\sum_{j=1}^{K}\\pi_jf_j(x)} \\\\\n",
    "        \\pi_k f_k(x)\n",
    "        &= \\pi_l f_l(x) \\\\\n",
    "        - (x - \\mu_k)^T \\Sigma_k^{-1} (x - \\mu_k) + (x - \\mu_l)^T \\Sigma_l^{-1} (x - \\mu_l)\n",
    "        &= \\log \\frac{\\det \\Sigma_k}{\\det \\Sigma_l} - 2\\log \\frac{\\pi_k}{\\pi_l}.\n",
    "    \\end{align*}\n",
    "$$\n",
    "したがって、$\\pi_k = \\pi_l$よりOK."
   ]
  },
  {
   "cell_type": "markdown",
   "metadata": {},
   "source": [
    "(b)\n",
    "$\\Sigma^{-1} = (\\Sigma^{-1})^T$より、任意の$1\\leq i \\leq N$に対して、\n",
    "$$\n",
    "    x^T\\Sigma^{-1}\\mu_i = (x^T\\Sigma^{-1}\\mu_i)^T = \\mu_i^T\\Sigma^{-1}x.\n",
    "$$\n",
    "また、これに加えて(a)の計算を用いると、\n",
    "$$\n",
    "    \\begin{align*}\n",
    "        \\frac{\\pi_k f_k(x)}{\\sum_{j=1}^{K}\\pi_jf_j(x)}\n",
    "        &= \\frac{\\pi_l f_l(x)}{\\sum_{j=1}^{K}\\pi_jf_j(x)} \\\\\n",
    "        - (x - \\mu_k)^T \\Sigma_k^{-1} (x - \\mu_k) + (x - \\mu_l)^T \\Sigma_l^{-1} (x - \\mu_l)\n",
    "        &= - 2\\log \\frac{\\pi_k}{\\pi_l} \\\\\n",
    "        2(\\mu_k - \\mu_l)^T\\Sigma^{-1}x + (2\\log \\frac{\\pi_k}{\\pi_l} - \\mu_k^T\\Sigma^{-1}\\mu_k + \\mu_l^T\\Sigma^{-1}\\mu_l)\n",
    "        &= 0\n",
    "    \\end{align*}\n",
    "$$\n",
    "となる。\n",
    "よって、\n",
    "$$\n",
    "    a = 2\\Sigma^{-1}(\\mu_k - \\mu_l),\n",
    "    \\quad\n",
    "    b = 2\\log \\frac{\\pi_k}{\\pi_l} - \\mu_k^T\\Sigma^{-1}\\mu_k + \\mu_l^T\\Sigma^{-1}\\mu_l.\n",
    "$$"
   ]
  },
  {
   "cell_type": "markdown",
   "metadata": {},
   "source": [
    "(c)\n",
    "(b)の計算より、\n",
    "$$\n",
    "    \\begin{align*}\n",
    "        \\frac{\\pi_k f_k(x)}{\\sum_{j=1}^{K}\\pi_jf_j(x)}\n",
    "        &= \\frac{\\pi_l f_l(x)}{\\sum_{j=1}^{K}\\pi_jf_j(x)} \\\\\n",
    "        2(\\mu_k - \\mu_l)^T\\Sigma^{-1}x + (- \\mu_k^T\\Sigma^{-1}\\mu_k + \\mu_l^T\\Sigma^{-1}\\mu_l)\n",
    "        &= 0 \\\\\n",
    "        (\\mu_k - \\mu_l)^T\\Sigma^{-1}(x - \\frac{\\mu_k + \\mu_l}{2})\n",
    "        &= 0\n",
    "    \\end{align*}\n",
    "$$\n",
    "となるのでOK."
   ]
  },
  {
   "cell_type": "markdown",
   "metadata": {},
   "source": []
  }
 ],
 "metadata": {
  "kernelspec": {
   "display_name": "Python 3",
   "name": "python3"
  },
  "language_info": {
   "codemirror_mode": {
    "name": "ipython",
    "version": 3
   },
   "file_extension": ".py",
   "mimetype": "text/x-python",
   "name": "python",
   "nbconvert_exporter": "python",
   "pygments_lexer": "ipython3",
   "version": "3.7.1-final"
  },
  "orig_nbformat": 2
 },
 "nbformat": 4,
 "nbformat_minor": 2
}
