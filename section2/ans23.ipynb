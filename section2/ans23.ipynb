{
 "cells": [
  {
   "cell_type": "markdown",
   "metadata": {},
   "source": [
    "$$\n",
    "    \\begin{align*}\n",
    "        (\\beta_0, \\beta) - \\{ \\nabla^2 \\ell(\\beta_0, \\beta) \\} ^{-1} \\nabla \\ell(\\beta_0, \\beta)\n",
    "        &= \\beta_{old} + (X^TWX)^{-1} X^Tu \\\\\n",
    "        &= (X^TWX)^{-1} (X^TWX\\beta_{old} + X^Tu) \\\\\n",
    "        &= (X^TWX)^{-1}X^TWz.\n",
    "    \\end{align*}\n",
    "$$"
   ]
  },
  {
   "cell_type": "markdown",
   "metadata": {},
   "source": []
  }
 ],
 "metadata": {
  "kernelspec": {
   "display_name": "Python 3",
   "name": "python3"
  },
  "language_info": {
   "codemirror_mode": {
    "name": "ipython",
    "version": 3
   },
   "file_extension": ".py",
   "mimetype": "text/x-python",
   "name": "python",
   "nbconvert_exporter": "python",
   "pygments_lexer": "ipython3",
   "version": "3.7.1-final"
  },
  "orig_nbformat": 2
 },
 "nbformat": 4,
 "nbformat_minor": 2
}
