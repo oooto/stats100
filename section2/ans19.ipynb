{
 "cells": [
  {
   "cell_type": "markdown",
   "metadata": {},
   "source": [
    "$$\n",
    "    f(y) = \\frac{1}{1+e^{-y(\\beta_0 + x \\beta)}}\n",
    "$$\n",
    "とおいたとき、\n",
    "$$\n",
    "    \\begin{align*}\n",
    "        f(1) &= \\frac{e^{\\beta_0+x\\beta}}{1+e^{\\beta_0 + x\\beta}} & f(-1) &= \\frac{1}{1+e^{\\beta_0 + x \\beta}}\n",
    "    \\end{align*}\n",
    "$$\n",
    "となるためOK"
   ]
  },
  {
   "cell_type": "markdown",
   "metadata": {},
   "source": []
  }
 ],
 "metadata": {
  "kernelspec": {
   "display_name": "Python 3",
   "name": "python3"
  },
  "language_info": {
   "codemirror_mode": {
    "name": "ipython",
    "version": 3
   },
   "file_extension": ".py",
   "mimetype": "text/x-python",
   "name": "python",
   "nbconvert_exporter": "python",
   "pygments_lexer": "ipython3",
   "version": "3.7.1-final"
  },
  "orig_nbformat": 2
 },
 "nbformat": 4,
 "nbformat_minor": 2
}
