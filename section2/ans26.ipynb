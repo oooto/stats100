{
 "cells": [
  {
   "cell_type": "code",
   "execution_count": 1,
   "metadata": {},
   "outputs": [
    {
     "name": "stderr",
     "output_type": "stream",
     "text": [
      "C:\\Users\\Public\\Anaconda3\\lib\\site-packages\\japanize_matplotlib\\japanize_matplotlib.py:15: MatplotlibDeprecationWarning: \n",
      "The createFontList function was deprecated in Matplotlib 3.2 and will be removed two minor releases later. Use FontManager.addfont instead.\n",
      "  font_list = font_manager.createFontList(font_files)\n"
     ]
    }
   ],
   "source": [
    "import numpy as np\n",
    "import matplotlib.pyplot as plt\n",
    "%matplotlib inline\n",
    "import japanize_matplotlib\n",
    "import scipy\n",
    "from scipy import stats\n",
    "from numpy.random import randn"
   ]
  },
  {
   "cell_type": "code",
   "execution_count": 2,
   "metadata": {},
   "outputs": [],
   "source": [
    "n = 100\n",
    "x = np.concatenate([randn(n) + 1, randn(n) - 1], 0)\n",
    "y = np.concatenate([np.ones(n), -np.ones(n)], 0)\n",
    "train = np.random.choice(2*n, int(n), replace=False)\n",
    "test = list(set(range(2*n)) - set(train))\n",
    "X = np.insert(x[train].reshape(-1, 1), 0, 1, axis=1)\n",
    "Y = y[train]"
   ]
  },
  {
   "cell_type": "code",
   "execution_count": 10,
   "metadata": {},
   "outputs": [
    {
     "name": "stdout",
     "output_type": "stream",
     "text": [
      "[-1.03363105  0.69267223]\n",
      "[-0.27201161  1.21506022]\n",
      "[-0.20065483  1.55207395]\n",
      "[-0.18885834  1.64679008]\n",
      "[-0.188371    1.65253257]\n"
     ]
    }
   ],
   "source": [
    "p = 1\n",
    "beta = [0, 0]\n",
    "gamma = randn(p+1)\n",
    "while np.sum((beta - gamma)**2) > 0.001:\n",
    "    beta = gamma\n",
    "    s = X @ beta\n",
    "    v = np.exp(- s * Y)\n",
    "    u = Y * v / (1 + v)\n",
    "    w = v / ((1 + v)**2)\n",
    "    W = np.diag(w)\n",
    "    z = s + u / w\n",
    "    gamma = np.linalg.inv(X.T @ W @ X) @ X.T @ W @ z\n",
    "    print(gamma)"
   ]
  },
  {
   "cell_type": "code",
   "execution_count": 18,
   "metadata": {},
   "outputs": [],
   "source": [
    "def table_count(m, u, v):\n",
    "    n = u.shape[0]\n",
    "    count = np.zeros([m, m])\n",
    "    for i in range(n):\n",
    "        count[int(u[i]), int(v[i])] += 1\n",
    "    return count"
   ]
  },
  {
   "cell_type": "code",
   "execution_count": 21,
   "metadata": {},
   "outputs": [
    {
     "data": {
      "text/plain": [
       "array([[40.,  9.],\n",
       "       [ 6., 45.]])"
      ]
     },
     "execution_count": 21,
     "metadata": {},
     "output_type": "execute_result"
    }
   ],
   "source": [
    "ans = y[test]\n",
    "pred = np.array([1 if gamma[0] + gamma[1]*x[test][i] > 0 else -1 for i in range(n)])\n",
    "ans = (ans + 1) / 2\n",
    "pred = (pred + 1) / 2\n",
    "table_count(2, ans, pred)"
   ]
  },
  {
   "cell_type": "code",
   "execution_count": null,
   "metadata": {},
   "outputs": [],
   "source": []
  }
 ],
 "metadata": {
  "interpreter": {
   "hash": "6f3459a7eaad7388d7351a557bbe5239a0aa1912c8a80cc899cc91528b7b4fb5"
  },
  "kernelspec": {
   "display_name": "Python 3.7.1 64-bit ('base': conda)",
   "name": "python3"
  },
  "language_info": {
   "codemirror_mode": {
    "name": "ipython",
    "version": 3
   },
   "file_extension": ".py",
   "mimetype": "text/x-python",
   "name": "python",
   "nbconvert_exporter": "python",
   "pygments_lexer": "ipython3",
   "version": "3.7.1"
  },
  "orig_nbformat": 2
 },
 "nbformat": 4,
 "nbformat_minor": 2
}
