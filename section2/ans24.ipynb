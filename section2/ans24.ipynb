{
 "cells": [
  {
   "cell_type": "code",
   "execution_count": 1,
   "metadata": {},
   "outputs": [
    {
     "name": "stderr",
     "output_type": "stream",
     "text": [
      "C:\\Users\\Public\\Anaconda3\\lib\\site-packages\\japanize_matplotlib\\japanize_matplotlib.py:15: MatplotlibDeprecationWarning: \n",
      "The createFontList function was deprecated in Matplotlib 3.2 and will be removed two minor releases later. Use FontManager.addfont instead.\n",
      "  font_list = font_manager.createFontList(font_files)\n"
     ]
    }
   ],
   "source": [
    "import numpy as np\n",
    "import matplotlib.pyplot as plt\n",
    "%matplotlib inline\n",
    "import japanize_matplotlib\n",
    "import scipy\n",
    "from scipy import stats\n",
    "from numpy.random import randn"
   ]
  },
  {
   "cell_type": "code",
   "execution_count": 2,
   "metadata": {},
   "outputs": [
    {
     "data": {
      "text/plain": [
       "array([ 0.468713  , -0.1418133 , -1.24061071])"
      ]
     },
     "execution_count": 2,
     "metadata": {},
     "output_type": "execute_result"
    }
   ],
   "source": [
    "N = 1000\n",
    "p = 2\n",
    "X = randn(N, p)\n",
    "X = np.insert(X, 0, 1, axis=1)\n",
    "beta = randn(p+1)\n",
    "y = []\n",
    "prob = 1 / (1 + np.exp(X @ beta))\n",
    "for i in range(N):\n",
    "    if np.random.rand(1) > prob[i]:\n",
    "        y.append(1)\n",
    "    else:\n",
    "        y.append(-1)\n",
    "beta"
   ]
  },
  {
   "cell_type": "code",
   "execution_count": 14,
   "metadata": {},
   "outputs": [
    {
     "name": "stdout",
     "output_type": "stream",
     "text": [
      "[-0.88235113 -0.21262263 -0.94254473]\n",
      "[ 0.61953913 -0.01006237 -0.76589933]\n",
      "[ 0.46687718 -0.09224416 -1.09529899]\n",
      "[ 0.46452993 -0.09676225 -1.14861121]\n",
      "[ 0.46463971 -0.09682045 -1.1499024 ]\n"
     ]
    }
   ],
   "source": [
    "beta = np.inf\n",
    "gamma = randn(p+1)\n",
    "print(gamma)\n",
    "while np.sum((beta - gamma)**2) > 0.001:\n",
    "    beta = gamma\n",
    "    s = X @ beta\n",
    "    v = np.exp(- s * y)\n",
    "    u = y * v / (1 + v)\n",
    "    w = v / ((1 + v)**2)\n",
    "    W = np.diag(w)\n",
    "    z = X @ beta + np.linalg.inv(W) @ u\n",
    "    gamma = np.linalg.inv(X.T @ W @ X) @ X.T @ W @ z\n",
    "    print(gamma)"
   ]
  },
  {
   "cell_type": "code",
   "execution_count": null,
   "metadata": {},
   "outputs": [],
   "source": []
  }
 ],
 "metadata": {
  "interpreter": {
   "hash": "6f3459a7eaad7388d7351a557bbe5239a0aa1912c8a80cc899cc91528b7b4fb5"
  },
  "kernelspec": {
   "display_name": "Python 3.7.1 64-bit ('base': conda)",
   "name": "python3"
  },
  "language_info": {
   "codemirror_mode": {
    "name": "ipython",
    "version": 3
   },
   "file_extension": ".py",
   "mimetype": "text/x-python",
   "name": "python",
   "nbconvert_exporter": "python",
   "pygments_lexer": "ipython3",
   "version": "3.7.1"
  },
  "orig_nbformat": 2
 },
 "nbformat": 4,
 "nbformat_minor": 2
}
